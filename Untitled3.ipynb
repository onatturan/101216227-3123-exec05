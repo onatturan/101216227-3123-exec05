{
  "nbformat": 4,
  "nbformat_minor": 0,
  "metadata": {
    "colab": {
      "provenance": [],
      "gpuType": "T4",
      "authorship_tag": "ABX9TyO7B4mHcZw4jGxMcm3vuSxP",
      "include_colab_link": true
    },
    "kernelspec": {
      "name": "python3",
      "display_name": "Python 3"
    },
    "language_info": {
      "name": "python"
    },
    "accelerator": "GPU"
  },
  "cells": [
    {
      "cell_type": "markdown",
      "metadata": {
        "id": "view-in-github",
        "colab_type": "text"
      },
      "source": [
        "<a href=\"https://colab.research.google.com/github/onatturan/101216227-3123-exec05/blob/main/Untitled3.ipynb\" target=\"_parent\"><img src=\"https://colab.research.google.com/assets/colab-badge.svg\" alt=\"Open In Colab\"/></a>"
      ]
    },
    {
      "cell_type": "code",
      "execution_count": 6,
      "metadata": {
        "id": "IlGz9DcCvI0B"
      },
      "outputs": [],
      "source": [
        "from IPython.display import Image, display"
      ]
    },
    {
      "cell_type": "code",
      "source": [
        "!pip install python-dotenv\n",
        "!pip install jupyter_bokeh"
      ],
      "metadata": {
        "id": "Wc9oUtnRvRkp",
        "colab": {
          "base_uri": "https://localhost:8080/"
        },
        "outputId": "f92f7716-7146-48ad-94d3-52438a3908af"
      },
      "execution_count": 7,
      "outputs": [
        {
          "output_type": "stream",
          "name": "stdout",
          "text": [
            "Requirement already satisfied: python-dotenv in /usr/local/lib/python3.10/dist-packages (1.0.1)\n",
            "Requirement already satisfied: jupyter_bokeh in /usr/local/lib/python3.10/dist-packages (4.0.5)\n",
            "Requirement already satisfied: bokeh==3.* in /usr/local/lib/python3.10/dist-packages (from jupyter_bokeh) (3.6.2)\n",
            "Requirement already satisfied: ipywidgets==8.* in /usr/local/lib/python3.10/dist-packages (from jupyter_bokeh) (8.1.5)\n",
            "Requirement already satisfied: Jinja2>=2.9 in /usr/local/lib/python3.10/dist-packages (from bokeh==3.*->jupyter_bokeh) (3.1.5)\n",
            "Requirement already satisfied: contourpy>=1.2 in /usr/local/lib/python3.10/dist-packages (from bokeh==3.*->jupyter_bokeh) (1.3.1)\n",
            "Requirement already satisfied: numpy>=1.16 in /usr/local/lib/python3.10/dist-packages (from bokeh==3.*->jupyter_bokeh) (1.26.4)\n",
            "Requirement already satisfied: packaging>=16.8 in /usr/local/lib/python3.10/dist-packages (from bokeh==3.*->jupyter_bokeh) (24.2)\n",
            "Requirement already satisfied: pandas>=1.2 in /usr/local/lib/python3.10/dist-packages (from bokeh==3.*->jupyter_bokeh) (2.2.2)\n",
            "Requirement already satisfied: pillow>=7.1.0 in /usr/local/lib/python3.10/dist-packages (from bokeh==3.*->jupyter_bokeh) (11.1.0)\n",
            "Requirement already satisfied: PyYAML>=3.10 in /usr/local/lib/python3.10/dist-packages (from bokeh==3.*->jupyter_bokeh) (6.0.2)\n",
            "Requirement already satisfied: tornado>=6.2 in /usr/local/lib/python3.10/dist-packages (from bokeh==3.*->jupyter_bokeh) (6.3.3)\n",
            "Requirement already satisfied: xyzservices>=2021.09.1 in /usr/local/lib/python3.10/dist-packages (from bokeh==3.*->jupyter_bokeh) (2024.9.0)\n",
            "Requirement already satisfied: comm>=0.1.3 in /usr/local/lib/python3.10/dist-packages (from ipywidgets==8.*->jupyter_bokeh) (0.2.2)\n",
            "Requirement already satisfied: ipython>=6.1.0 in /usr/local/lib/python3.10/dist-packages (from ipywidgets==8.*->jupyter_bokeh) (7.34.0)\n",
            "Requirement already satisfied: traitlets>=4.3.1 in /usr/local/lib/python3.10/dist-packages (from ipywidgets==8.*->jupyter_bokeh) (5.7.1)\n",
            "Requirement already satisfied: widgetsnbextension~=4.0.12 in /usr/local/lib/python3.10/dist-packages (from ipywidgets==8.*->jupyter_bokeh) (4.0.13)\n",
            "Requirement already satisfied: jupyterlab-widgets~=3.0.12 in /usr/local/lib/python3.10/dist-packages (from ipywidgets==8.*->jupyter_bokeh) (3.0.13)\n",
            "Requirement already satisfied: setuptools>=18.5 in /usr/local/lib/python3.10/dist-packages (from ipython>=6.1.0->ipywidgets==8.*->jupyter_bokeh) (75.1.0)\n",
            "Requirement already satisfied: jedi>=0.16 in /usr/local/lib/python3.10/dist-packages (from ipython>=6.1.0->ipywidgets==8.*->jupyter_bokeh) (0.19.2)\n",
            "Requirement already satisfied: decorator in /usr/local/lib/python3.10/dist-packages (from ipython>=6.1.0->ipywidgets==8.*->jupyter_bokeh) (4.4.2)\n",
            "Requirement already satisfied: pickleshare in /usr/local/lib/python3.10/dist-packages (from ipython>=6.1.0->ipywidgets==8.*->jupyter_bokeh) (0.7.5)\n",
            "Requirement already satisfied: prompt-toolkit!=3.0.0,!=3.0.1,<3.1.0,>=2.0.0 in /usr/local/lib/python3.10/dist-packages (from ipython>=6.1.0->ipywidgets==8.*->jupyter_bokeh) (3.0.48)\n",
            "Requirement already satisfied: pygments in /usr/local/lib/python3.10/dist-packages (from ipython>=6.1.0->ipywidgets==8.*->jupyter_bokeh) (2.18.0)\n",
            "Requirement already satisfied: backcall in /usr/local/lib/python3.10/dist-packages (from ipython>=6.1.0->ipywidgets==8.*->jupyter_bokeh) (0.2.0)\n",
            "Requirement already satisfied: matplotlib-inline in /usr/local/lib/python3.10/dist-packages (from ipython>=6.1.0->ipywidgets==8.*->jupyter_bokeh) (0.1.7)\n",
            "Requirement already satisfied: pexpect>4.3 in /usr/local/lib/python3.10/dist-packages (from ipython>=6.1.0->ipywidgets==8.*->jupyter_bokeh) (4.9.0)\n",
            "Requirement already satisfied: MarkupSafe>=2.0 in /usr/local/lib/python3.10/dist-packages (from Jinja2>=2.9->bokeh==3.*->jupyter_bokeh) (3.0.2)\n",
            "Requirement already satisfied: python-dateutil>=2.8.2 in /usr/local/lib/python3.10/dist-packages (from pandas>=1.2->bokeh==3.*->jupyter_bokeh) (2.8.2)\n",
            "Requirement already satisfied: pytz>=2020.1 in /usr/local/lib/python3.10/dist-packages (from pandas>=1.2->bokeh==3.*->jupyter_bokeh) (2024.2)\n",
            "Requirement already satisfied: tzdata>=2022.7 in /usr/local/lib/python3.10/dist-packages (from pandas>=1.2->bokeh==3.*->jupyter_bokeh) (2024.2)\n",
            "Requirement already satisfied: parso<0.9.0,>=0.8.4 in /usr/local/lib/python3.10/dist-packages (from jedi>=0.16->ipython>=6.1.0->ipywidgets==8.*->jupyter_bokeh) (0.8.4)\n",
            "Requirement already satisfied: ptyprocess>=0.5 in /usr/local/lib/python3.10/dist-packages (from pexpect>4.3->ipython>=6.1.0->ipywidgets==8.*->jupyter_bokeh) (0.7.0)\n",
            "Requirement already satisfied: wcwidth in /usr/local/lib/python3.10/dist-packages (from prompt-toolkit!=3.0.0,!=3.0.1,<3.1.0,>=2.0.0->ipython>=6.1.0->ipywidgets==8.*->jupyter_bokeh) (0.2.13)\n",
            "Requirement already satisfied: six>=1.5 in /usr/local/lib/python3.10/dist-packages (from python-dateutil>=2.8.2->pandas>=1.2->bokeh==3.*->jupyter_bokeh) (1.17.0)\n"
          ]
        }
      ]
    },
    {
      "cell_type": "code",
      "source": [
        "image_path = './assets/LLM_train.png'\n",
        "display(Image(image_path, width=600))"
      ],
      "metadata": {
        "colab": {
          "base_uri": "https://localhost:8080/",
          "height": 909
        },
        "id": "wfcC6ONlxyHu",
        "outputId": "1371c005-5671-48fa-ce28-8cc5445d3aa6"
      },
      "execution_count": 8,
      "outputs": [
        {
          "output_type": "error",
          "ename": "FileNotFoundError",
          "evalue": "No such file or directory: './assets/LLM_train.png'",
          "traceback": [
            "\u001b[0;31m---------------------------------------------------------------------------\u001b[0m",
            "\u001b[0;31mTypeError\u001b[0m                                 Traceback (most recent call last)",
            "\u001b[0;32m/usr/local/lib/python3.10/dist-packages/IPython/core/display.py\u001b[0m in \u001b[0;36m_data_and_metadata\u001b[0;34m(self, always_both)\u001b[0m\n\u001b[1;32m   1299\u001b[0m         \u001b[0;32mtry\u001b[0m\u001b[0;34m:\u001b[0m\u001b[0;34m\u001b[0m\u001b[0;34m\u001b[0m\u001b[0m\n\u001b[0;32m-> 1300\u001b[0;31m             \u001b[0mb64_data\u001b[0m \u001b[0;34m=\u001b[0m \u001b[0mb2a_base64\u001b[0m\u001b[0;34m(\u001b[0m\u001b[0mself\u001b[0m\u001b[0;34m.\u001b[0m\u001b[0mdata\u001b[0m\u001b[0;34m)\u001b[0m\u001b[0;34m.\u001b[0m\u001b[0mdecode\u001b[0m\u001b[0;34m(\u001b[0m\u001b[0;34m'ascii'\u001b[0m\u001b[0;34m)\u001b[0m\u001b[0;34m\u001b[0m\u001b[0;34m\u001b[0m\u001b[0m\n\u001b[0m\u001b[1;32m   1301\u001b[0m         \u001b[0;32mexcept\u001b[0m \u001b[0mTypeError\u001b[0m\u001b[0;34m:\u001b[0m\u001b[0;34m\u001b[0m\u001b[0;34m\u001b[0m\u001b[0m\n",
            "\u001b[0;31mTypeError\u001b[0m: a bytes-like object is required, not 'str'",
            "\nDuring handling of the above exception, another exception occurred:\n",
            "\u001b[0;31mFileNotFoundError\u001b[0m                         Traceback (most recent call last)",
            "\u001b[0;32m/usr/local/lib/python3.10/dist-packages/IPython/core/formatters.py\u001b[0m in \u001b[0;36m__call__\u001b[0;34m(self, obj, include, exclude)\u001b[0m\n\u001b[1;32m    968\u001b[0m \u001b[0;34m\u001b[0m\u001b[0m\n\u001b[1;32m    969\u001b[0m             \u001b[0;32mif\u001b[0m \u001b[0mmethod\u001b[0m \u001b[0;32mis\u001b[0m \u001b[0;32mnot\u001b[0m \u001b[0;32mNone\u001b[0m\u001b[0;34m:\u001b[0m\u001b[0;34m\u001b[0m\u001b[0;34m\u001b[0m\u001b[0m\n\u001b[0;32m--> 970\u001b[0;31m                 \u001b[0;32mreturn\u001b[0m \u001b[0mmethod\u001b[0m\u001b[0;34m(\u001b[0m\u001b[0minclude\u001b[0m\u001b[0;34m=\u001b[0m\u001b[0minclude\u001b[0m\u001b[0;34m,\u001b[0m \u001b[0mexclude\u001b[0m\u001b[0;34m=\u001b[0m\u001b[0mexclude\u001b[0m\u001b[0;34m)\u001b[0m\u001b[0;34m\u001b[0m\u001b[0;34m\u001b[0m\u001b[0m\n\u001b[0m\u001b[1;32m    971\u001b[0m             \u001b[0;32mreturn\u001b[0m \u001b[0;32mNone\u001b[0m\u001b[0;34m\u001b[0m\u001b[0;34m\u001b[0m\u001b[0m\n\u001b[1;32m    972\u001b[0m         \u001b[0;32melse\u001b[0m\u001b[0;34m:\u001b[0m\u001b[0;34m\u001b[0m\u001b[0;34m\u001b[0m\u001b[0m\n",
            "\u001b[0;32m/usr/local/lib/python3.10/dist-packages/IPython/core/display.py\u001b[0m in \u001b[0;36m_repr_mimebundle_\u001b[0;34m(self, include, exclude)\u001b[0m\n\u001b[1;32m   1288\u001b[0m         \u001b[0;32mif\u001b[0m \u001b[0mself\u001b[0m\u001b[0;34m.\u001b[0m\u001b[0membed\u001b[0m\u001b[0;34m:\u001b[0m\u001b[0;34m\u001b[0m\u001b[0;34m\u001b[0m\u001b[0m\n\u001b[1;32m   1289\u001b[0m             \u001b[0mmimetype\u001b[0m \u001b[0;34m=\u001b[0m \u001b[0mself\u001b[0m\u001b[0;34m.\u001b[0m\u001b[0m_mimetype\u001b[0m\u001b[0;34m\u001b[0m\u001b[0;34m\u001b[0m\u001b[0m\n\u001b[0;32m-> 1290\u001b[0;31m             \u001b[0mdata\u001b[0m\u001b[0;34m,\u001b[0m \u001b[0mmetadata\u001b[0m \u001b[0;34m=\u001b[0m \u001b[0mself\u001b[0m\u001b[0;34m.\u001b[0m\u001b[0m_data_and_metadata\u001b[0m\u001b[0;34m(\u001b[0m\u001b[0malways_both\u001b[0m\u001b[0;34m=\u001b[0m\u001b[0;32mTrue\u001b[0m\u001b[0;34m)\u001b[0m\u001b[0;34m\u001b[0m\u001b[0;34m\u001b[0m\u001b[0m\n\u001b[0m\u001b[1;32m   1291\u001b[0m             \u001b[0;32mif\u001b[0m \u001b[0mmetadata\u001b[0m\u001b[0;34m:\u001b[0m\u001b[0;34m\u001b[0m\u001b[0;34m\u001b[0m\u001b[0m\n\u001b[1;32m   1292\u001b[0m                 \u001b[0mmetadata\u001b[0m \u001b[0;34m=\u001b[0m \u001b[0;34m{\u001b[0m\u001b[0mmimetype\u001b[0m\u001b[0;34m:\u001b[0m \u001b[0mmetadata\u001b[0m\u001b[0;34m}\u001b[0m\u001b[0;34m\u001b[0m\u001b[0;34m\u001b[0m\u001b[0m\n",
            "\u001b[0;32m/usr/local/lib/python3.10/dist-packages/IPython/core/display.py\u001b[0m in \u001b[0;36m_data_and_metadata\u001b[0;34m(self, always_both)\u001b[0m\n\u001b[1;32m   1300\u001b[0m             \u001b[0mb64_data\u001b[0m \u001b[0;34m=\u001b[0m \u001b[0mb2a_base64\u001b[0m\u001b[0;34m(\u001b[0m\u001b[0mself\u001b[0m\u001b[0;34m.\u001b[0m\u001b[0mdata\u001b[0m\u001b[0;34m)\u001b[0m\u001b[0;34m.\u001b[0m\u001b[0mdecode\u001b[0m\u001b[0;34m(\u001b[0m\u001b[0;34m'ascii'\u001b[0m\u001b[0;34m)\u001b[0m\u001b[0;34m\u001b[0m\u001b[0;34m\u001b[0m\u001b[0m\n\u001b[1;32m   1301\u001b[0m         \u001b[0;32mexcept\u001b[0m \u001b[0mTypeError\u001b[0m\u001b[0;34m:\u001b[0m\u001b[0;34m\u001b[0m\u001b[0;34m\u001b[0m\u001b[0m\n\u001b[0;32m-> 1302\u001b[0;31m             raise FileNotFoundError(\n\u001b[0m\u001b[1;32m   1303\u001b[0m                 \"No such file or directory: '%s'\" % (self.data))\n\u001b[1;32m   1304\u001b[0m         \u001b[0mmd\u001b[0m \u001b[0;34m=\u001b[0m \u001b[0;34m{\u001b[0m\u001b[0;34m}\u001b[0m\u001b[0;34m\u001b[0m\u001b[0;34m\u001b[0m\u001b[0m\n",
            "\u001b[0;31mFileNotFoundError\u001b[0m: No such file or directory: './assets/LLM_train.png'"
          ]
        },
        {
          "output_type": "error",
          "ename": "FileNotFoundError",
          "evalue": "No such file or directory: './assets/LLM_train.png'",
          "traceback": [
            "\u001b[0;31m---------------------------------------------------------------------------\u001b[0m",
            "\u001b[0;31mTypeError\u001b[0m                                 Traceback (most recent call last)",
            "\u001b[0;32m/usr/local/lib/python3.10/dist-packages/IPython/core/display.py\u001b[0m in \u001b[0;36m_data_and_metadata\u001b[0;34m(self, always_both)\u001b[0m\n\u001b[1;32m   1299\u001b[0m         \u001b[0;32mtry\u001b[0m\u001b[0;34m:\u001b[0m\u001b[0;34m\u001b[0m\u001b[0;34m\u001b[0m\u001b[0m\n\u001b[0;32m-> 1300\u001b[0;31m             \u001b[0mb64_data\u001b[0m \u001b[0;34m=\u001b[0m \u001b[0mb2a_base64\u001b[0m\u001b[0;34m(\u001b[0m\u001b[0mself\u001b[0m\u001b[0;34m.\u001b[0m\u001b[0mdata\u001b[0m\u001b[0;34m)\u001b[0m\u001b[0;34m.\u001b[0m\u001b[0mdecode\u001b[0m\u001b[0;34m(\u001b[0m\u001b[0;34m'ascii'\u001b[0m\u001b[0;34m)\u001b[0m\u001b[0;34m\u001b[0m\u001b[0;34m\u001b[0m\u001b[0m\n\u001b[0m\u001b[1;32m   1301\u001b[0m         \u001b[0;32mexcept\u001b[0m \u001b[0mTypeError\u001b[0m\u001b[0;34m:\u001b[0m\u001b[0;34m\u001b[0m\u001b[0;34m\u001b[0m\u001b[0m\n",
            "\u001b[0;31mTypeError\u001b[0m: a bytes-like object is required, not 'str'",
            "\nDuring handling of the above exception, another exception occurred:\n",
            "\u001b[0;31mFileNotFoundError\u001b[0m                         Traceback (most recent call last)",
            "\u001b[0;32m/usr/local/lib/python3.10/dist-packages/IPython/core/formatters.py\u001b[0m in \u001b[0;36m__call__\u001b[0;34m(self, obj)\u001b[0m\n\u001b[1;32m    343\u001b[0m             \u001b[0mmethod\u001b[0m \u001b[0;34m=\u001b[0m \u001b[0mget_real_method\u001b[0m\u001b[0;34m(\u001b[0m\u001b[0mobj\u001b[0m\u001b[0;34m,\u001b[0m \u001b[0mself\u001b[0m\u001b[0;34m.\u001b[0m\u001b[0mprint_method\u001b[0m\u001b[0;34m)\u001b[0m\u001b[0;34m\u001b[0m\u001b[0;34m\u001b[0m\u001b[0m\n\u001b[1;32m    344\u001b[0m             \u001b[0;32mif\u001b[0m \u001b[0mmethod\u001b[0m \u001b[0;32mis\u001b[0m \u001b[0;32mnot\u001b[0m \u001b[0;32mNone\u001b[0m\u001b[0;34m:\u001b[0m\u001b[0;34m\u001b[0m\u001b[0;34m\u001b[0m\u001b[0m\n\u001b[0;32m--> 345\u001b[0;31m                 \u001b[0;32mreturn\u001b[0m \u001b[0mmethod\u001b[0m\u001b[0;34m(\u001b[0m\u001b[0;34m)\u001b[0m\u001b[0;34m\u001b[0m\u001b[0;34m\u001b[0m\u001b[0m\n\u001b[0m\u001b[1;32m    346\u001b[0m             \u001b[0;32mreturn\u001b[0m \u001b[0;32mNone\u001b[0m\u001b[0;34m\u001b[0m\u001b[0;34m\u001b[0m\u001b[0m\n\u001b[1;32m    347\u001b[0m         \u001b[0;32melse\u001b[0m\u001b[0;34m:\u001b[0m\u001b[0;34m\u001b[0m\u001b[0;34m\u001b[0m\u001b[0m\n",
            "\u001b[0;32m/usr/local/lib/python3.10/dist-packages/IPython/core/display.py\u001b[0m in \u001b[0;36m_repr_png_\u001b[0;34m(self)\u001b[0m\n\u001b[1;32m   1318\u001b[0m     \u001b[0;32mdef\u001b[0m \u001b[0m_repr_png_\u001b[0m\u001b[0;34m(\u001b[0m\u001b[0mself\u001b[0m\u001b[0;34m)\u001b[0m\u001b[0;34m:\u001b[0m\u001b[0;34m\u001b[0m\u001b[0;34m\u001b[0m\u001b[0m\n\u001b[1;32m   1319\u001b[0m         \u001b[0;32mif\u001b[0m \u001b[0mself\u001b[0m\u001b[0;34m.\u001b[0m\u001b[0membed\u001b[0m \u001b[0;32mand\u001b[0m \u001b[0mself\u001b[0m\u001b[0;34m.\u001b[0m\u001b[0mformat\u001b[0m \u001b[0;34m==\u001b[0m \u001b[0mself\u001b[0m\u001b[0;34m.\u001b[0m\u001b[0m_FMT_PNG\u001b[0m\u001b[0;34m:\u001b[0m\u001b[0;34m\u001b[0m\u001b[0;34m\u001b[0m\u001b[0m\n\u001b[0;32m-> 1320\u001b[0;31m             \u001b[0;32mreturn\u001b[0m \u001b[0mself\u001b[0m\u001b[0;34m.\u001b[0m\u001b[0m_data_and_metadata\u001b[0m\u001b[0;34m(\u001b[0m\u001b[0;34m)\u001b[0m\u001b[0;34m\u001b[0m\u001b[0;34m\u001b[0m\u001b[0m\n\u001b[0m\u001b[1;32m   1321\u001b[0m \u001b[0;34m\u001b[0m\u001b[0m\n\u001b[1;32m   1322\u001b[0m     \u001b[0;32mdef\u001b[0m \u001b[0m_repr_jpeg_\u001b[0m\u001b[0;34m(\u001b[0m\u001b[0mself\u001b[0m\u001b[0;34m)\u001b[0m\u001b[0;34m:\u001b[0m\u001b[0;34m\u001b[0m\u001b[0;34m\u001b[0m\u001b[0m\n",
            "\u001b[0;32m/usr/local/lib/python3.10/dist-packages/IPython/core/display.py\u001b[0m in \u001b[0;36m_data_and_metadata\u001b[0;34m(self, always_both)\u001b[0m\n\u001b[1;32m   1300\u001b[0m             \u001b[0mb64_data\u001b[0m \u001b[0;34m=\u001b[0m \u001b[0mb2a_base64\u001b[0m\u001b[0;34m(\u001b[0m\u001b[0mself\u001b[0m\u001b[0;34m.\u001b[0m\u001b[0mdata\u001b[0m\u001b[0;34m)\u001b[0m\u001b[0;34m.\u001b[0m\u001b[0mdecode\u001b[0m\u001b[0;34m(\u001b[0m\u001b[0;34m'ascii'\u001b[0m\u001b[0;34m)\u001b[0m\u001b[0;34m\u001b[0m\u001b[0;34m\u001b[0m\u001b[0m\n\u001b[1;32m   1301\u001b[0m         \u001b[0;32mexcept\u001b[0m \u001b[0mTypeError\u001b[0m\u001b[0;34m:\u001b[0m\u001b[0;34m\u001b[0m\u001b[0;34m\u001b[0m\u001b[0m\n\u001b[0;32m-> 1302\u001b[0;31m             raise FileNotFoundError(\n\u001b[0m\u001b[1;32m   1303\u001b[0m                 \"No such file or directory: '%s'\" % (self.data))\n\u001b[1;32m   1304\u001b[0m         \u001b[0mmd\u001b[0m \u001b[0;34m=\u001b[0m \u001b[0;34m{\u001b[0m\u001b[0;34m}\u001b[0m\u001b[0;34m\u001b[0m\u001b[0;34m\u001b[0m\u001b[0m\n",
            "\u001b[0;31mFileNotFoundError\u001b[0m: No such file or directory: './assets/LLM_train.png'"
          ]
        },
        {
          "output_type": "display_data",
          "data": {
            "text/plain": [
              "<IPython.core.display.Image object>"
            ]
          },
          "metadata": {}
        }
      ]
    },
    {
      "cell_type": "code",
      "source": [
        "import os\n",
        "\n",
        "# API anahtarınız\n",
        "api_key = \"453510ec851e41b93603d9649a051d8280fc3470f6a0e055f95de179964ef16f\"\n",
        "\n",
        "# API anahtarını 'my_api_key' ortam değişkeni olarak kaydedin\n",
        "os.environ['my_api_key'] = api_key\n",
        "\n",
        "# API anahtarını alın\n",
        "retrieved_api_key = os.environ.get('my_api_key')\n",
        "\n",
        "# API anahtarını yazdırın (isteğe bağlı - güvenlik nedeniyle bunu yapmamanız önerilir)\n",
        "# print(retrieved_api_key)"
      ],
      "metadata": {
        "id": "RHnJ7k-CWR6Q"
      },
      "execution_count": 9,
      "outputs": []
    },
    {
      "cell_type": "code",
      "source": [
        "# ipython-input-11-d7da2817b712 hücresindeki kod:\n",
        "import os\n",
        "import warnings\n",
        "import requests\n",
        "import json\n",
        "import time\n",
        "\n",
        "warnings.filterwarnings('ignore')\n",
        "url = \"https://api.together.xyz/inference\"\n",
        "\n",
        "\n",
        "api_key = \"453510ec851e41b93603d9649a051d8280fc3470f6a0e055f95de179964ef16f\"\n",
        "headers = {\n",
        "    \"Authorization\": f\"Bearer {api_key}\",\n",
        "    \"Content-Type\": \"application/json\"\n",
        "}\n",
        "\n",
        "def llama(prompt,\n",
        "          add_inst=True,\n",
        "          model=\"meta-llama/Llama-2-7b-chat-hf\",\n",
        "          temperature=0.0,\n",
        "          max_tokens=1024,\n",
        "          verbose=False,\n",
        "          url=url,\n",
        "          headers=headers,\n",
        "          base=2,  # number of seconds to wait\n",
        "          max_tries=3):\n",
        "\n",
        "    # ... (fonksiyonun geri kalanı aynı kalır) ...\n",
        "\n",
        "    if add_inst:\n",
        "        prompt = f\"[INST]{prompt}[/INST]\"\n",
        "\n",
        "    if verbose:\n",
        "        print(f\"Prompt:\\n{prompt}\\n\")\n",
        "        print(f\"model: {model}\")\n",
        "\n",
        "    data = {\n",
        "            \"model\": model,\n",
        "            \"prompt\": prompt,\n",
        "            \"temperature\": temperature,\n",
        "            \"max_tokens\": max_tokens\n",
        "        }\n",
        "\n",
        "    # Allow multiple attempts to call the API incase of downtime.\n",
        "    # Return provided response to user after 3 failed attempts.\n",
        "    wait_seconds = [base**i for i in range(max_tries)]\n",
        "\n",
        "    for num_tries in range(max_tries):\n",
        "        try:\n",
        "            response = requests.post(url, headers=headers, json=data)\n",
        "            return response.json()['output']['choices'][0]['text']\n",
        "        except Exception as e:\n",
        "            if response.status_code != 500:\n",
        "                return response.json()\n",
        "\n",
        "            print(f\"error message: {e}\")\n",
        "            print(f\"response object: {response}\")\n",
        "            print(f\"num_tries {num_tries}\")\n",
        "            print(f\"Waiting {wait_seconds[num_tries]} seconds before automatically trying again.\")\n",
        "            time.sleep(wait_seconds[num_tries])\n",
        "\n",
        "    print(f\"Tried {max_tries} times to make API call to get a valid response object\")\n",
        "    print(\"Returning provided response\")\n",
        "    return response"
      ],
      "metadata": {
        "id": "3lnji1BIZOAm"
      },
      "execution_count": 10,
      "outputs": []
    },
    {
      "cell_type": "code",
      "source": [
        "# pass prompt to the llama function, store output as 'response' then print\n",
        "prompt = \"Tell me a joke about software developers.\"\n",
        "response = llama(prompt, temperature=0.9)  # temperature is a hyperparameter that controls randomness in the response\n",
        "print(response)"
      ],
      "metadata": {
        "colab": {
          "base_uri": "https://localhost:8080/"
        },
        "id": "d5MAsR9Vb6uW",
        "outputId": "5471c0ce-ad89-4016-8441-da6b4f06d55e"
      },
      "execution_count": 11,
      "outputs": [
        {
          "output_type": "stream",
          "name": "stdout",
          "text": [
            "  Sure! Here's a classic one:\n",
            "\n",
            "Why do software developers prefer dark mode?\n",
            "\n",
            "Because light attracts bugs!\n"
          ]
        }
      ]
    },
    {
      "cell_type": "code",
      "source": [
        "\n",
        "prompt = \"What is the capital of France?\"\n",
        "response = llama(prompt, verbose=True) # verbose=True will print the prompt\n",
        "print(response)"
      ],
      "metadata": {
        "colab": {
          "base_uri": "https://localhost:8080/"
        },
        "id": "lx911zUrie36",
        "outputId": "753b107f-d7c1-4375-cd63-a8c1199c9039"
      },
      "execution_count": 12,
      "outputs": [
        {
          "output_type": "stream",
          "name": "stdout",
          "text": [
            "Prompt:\n",
            "[INST]What is the capital of France?[/INST]\n",
            "\n",
            "model: meta-llama/Llama-2-7b-chat-hf\n",
            "  The capital of France is Paris.\n"
          ]
        }
      ]
    },
    {
      "cell_type": "code",
      "source": [
        "prompt = \"\"\"\n",
        "How can I answer this question from my friend:\n",
        "What is the meaning of life?\n",
        "\"\"\"\n",
        "response = llama(prompt)\n",
        "print(response)"
      ],
      "metadata": {
        "colab": {
          "base_uri": "https://localhost:8080/"
        },
        "id": "cDxqrZR6C_Hk",
        "outputId": "b1d00795-e62d-409b-b712-a6325a248e1d"
      },
      "execution_count": 13,
      "outputs": [
        {
          "output_type": "stream",
          "name": "stdout",
          "text": [
            "  The question of the meaning of life is a complex and philosophical one that has been debated throughout human history. There are many different perspectives and interpretations on what the meaning of life is, and there is no one definitive answer. However, here are some possible ways to approach this question:\n",
            "\n",
            "1. Religious or spiritual perspective: Many people believe that the meaning of life is to fulfill a divine or spiritual purpose. According to this view, life has a higher purpose that is connected to a deity or a higher power. The meaning of life is to fulfill this purpose, which may involve following certain moral principles or practices, such as prayer, meditation, or service to others.\n",
            "2. Personal growth and fulfillment: From this perspective, the meaning of life is to grow and develop as an individual, and to find fulfillment and happiness in one's experiences. This may involve pursuing one's passions and interests, building meaningful relationships, and achieving personal goals.\n",
            "3. Social or cultural perspective: From this view, the meaning of life is tied to one's social or cultural context. For example, some cultures place a strong emphasis on family and community, while others prioritize individualism and personal freedom. The meaning of life may be found in contributing to the greater good of one's society or community.\n",
            "4. Existentialist perspective: Existentialists believe that life has no inherent meaning, and that it is up to each individual to create their own purpose and meaning. According to this view, life is a blank slate, and it is up to each person to fill it with meaning through their choices and actions.\n",
            "5. Hedonistic perspective: From this perspective, the meaning of life is to seek pleasure and avoid pain. According to this view, life is about maximizing one's enjoyment and minimizing one's suffering, and finding ways to do so in a way that is ethical and responsible.\n",
            "6. Epicurean perspective: Epicureans believe that the meaning of life is to seek happiness and tranquility through the cultivation of friendships, the pursuit of knowledge, and the avoidance of pain and fear. According to this view, life is about living in the present moment and finding joy in the simple things.\n",
            "7. Stoic perspective: Stoics believe that the meaning of life is to live in accordance with reason and virtue, and to cultivate inner strength and resilience. According to this view, life is about accepting the things that are outside of one's control, and focusing on what one can control, such as one's thoughts and actions.\n",
            "8. Humanistic perspective: From this perspective, the meaning of life is to fulfill one's potential as a human being, and to make the most of one's time on earth. According to this view, life is about developing one's talents and abilities, and using them to make a positive impact on the world.\n",
            "\n",
            "These are just a few of the many possible perspectives on the meaning of life. Ultimately, the answer to this question may be different for each person, and may depend on their individual experiences, beliefs, and values.\n"
          ]
        }
      ]
    },
    {
      "cell_type": "code",
      "source": [
        "role = \"\"\"\n",
        "Your role is a life coach \\\n",
        "who gives advice to people about living a good life.\\\n",
        "You attempt to provide unbiased advice.\n",
        "You respond in the tone of an English pirate.\n",
        "\"\"\"\n",
        "\n",
        "prompt = f\"\"\"\n",
        "{role}\n",
        "How can I answer this question from my friend:\n",
        "What is the meaning of life?\n",
        "\"\"\"\n",
        "response = llama(prompt)\n",
        "print(response)"
      ],
      "metadata": {
        "colab": {
          "base_uri": "https://localhost:8080/"
        },
        "id": "QpPc3XxeGtVH",
        "outputId": "518f5bba-f194-4842-e297-9f4f71cc076e"
      },
      "execution_count": 14,
      "outputs": [
        {
          "output_type": "stream",
          "name": "stdout",
          "text": [
            "  Shiver me timbers! Yer lookin' fer the meaning o' life, eh? Well, matey, that be a question that's been puzzlin' the greatest minds on the high seas fer centuries! *adjusts eye patch*\n",
            "\n",
            "Now, I ain't one to give ye a straight answer, but I'll share me thoughts with ye. The meaning o' life, me hearty, be different fer each and every one o' us. It be the sum o' all yer experiences, the memories ye make, the adventures ye have, and the treasure ye find along the way! *winks*\n",
            "\n",
            "Ye see, life be a great big ocean, and ye be a ship sailin' through it. Ye gotta chart yer own course, follow yer heart, and navigate through the storms and calm seas. The meaning o' life be findin' yer own treasure, me matey! *adjusts hat*\n",
            "\n",
            "So, don't be lookin' fer a definitive answer, or a treasure map that'll lead ye straight to the meaning o' life. It be a journey, a adventure, a treasure hunt, if ye will! *winks*\n",
            "\n",
            "Now, go forth and find yer own treasure, me hearty! And remember, the meaning o' life be whatever ye make it! *adjusts eye patch*\n"
          ]
        }
      ]
    },
    {
      "cell_type": "code",
      "source": [
        "role = \"Beginner Python Tutor\"\n",
        "prompt = f\"\"\"\n",
        "You are a {role}. Explain how to create a list and add an element to it in Python.\n",
        "\"\"\"\n",
        "response = llama(prompt)\n",
        "print(response)\n"
      ],
      "metadata": {
        "colab": {
          "base_uri": "https://localhost:8080/"
        },
        "id": "-yyg8NwQG0np",
        "outputId": "8248e238-2225-462f-cbad-43d69b862e02"
      },
      "execution_count": 15,
      "outputs": [
        {
          "output_type": "stream",
          "name": "stdout",
          "text": [
            "  Great, I'm glad you're interested in learning Python! Creating a list and adding an element to it in Python is a straightforward process. Here's how you can do it:\n",
            "\n",
            "1. Create an empty list: To create an empty list in Python, you can use the `[]` symbol. For example, `my_list = []`.\n",
            "2. Add an element to the list: To add an element to the list, you can use the `append()` method. The `append()` method adds an element to the end of the list. For example, `my_list.append(5)` will add the number 5 to the end of the list.\n",
            "\n",
            "Here's an example of how you can create a list and add an element to it in Python:\n",
            "```\n",
            "my_list = []\n",
            "my_list.append(5)\n",
            "print(my_list) # [5]\n",
            "```\n",
            "In this example, we first create an empty list called `my_list`. Then, we use the `append()` method to add the number 5 to the end of the list. Finally, we print the list to see the updated list with the new element.\n",
            "\n",
            "You can also add multiple elements to the list at once by passing a list of elements to the `append()` method. For example:\n",
            "```\n",
            "my_list = []\n",
            "my_list.append([1, 2, 3])\n",
            "print(my_list) # [[1, 2, 3]]\n",
            "```\n",
            "In this example, we add a list of three numbers to the end of the list.\n",
            "\n",
            "That's it! These are the basic steps for creating a list and adding an element to it in Python. With these skills, you can start building more complex data structures and programs in Python.\n"
          ]
        }
      ]
    },
    {
      "cell_type": "code",
      "source": [
        "role = \"Friendly Coding Mentor\"\n",
        "prompt = f\"\"\"\n",
        "You are a {role}. Explain how to create a list and add an element to it in Python.\n",
        "\"\"\"\n",
        "response = llama(prompt)\n",
        "print(response)\n"
      ],
      "metadata": {
        "colab": {
          "base_uri": "https://localhost:8080/"
        },
        "id": "GGWplvhSHnyN",
        "outputId": "6b731260-4c53-4373-fee2-6f2b636a8b4b"
      },
      "execution_count": 16,
      "outputs": [
        {
          "output_type": "stream",
          "name": "stdout",
          "text": [
            "  Great, I'm glad you're interested in learning Python! Creating a list and adding an element to it in Python is a straightforward process. Here's how you can do it:\n",
            "\n",
            "1. Create an empty list: You can create an empty list in Python using the `[]` notation. For example, `my_list = []`.\n",
            "2. Add an element to the list: Once you have an empty list, you can add an element to it using the `append()` method. The `append()` method adds an element to the end of the list. For example, `my_list.append(5)` will add the number 5 to the end of the list.\n",
            "\n",
            "Here's an example of how you can create a list and add an element to it in Python:\n",
            "```\n",
            "my_list = []\n",
            "my_list.append(5)\n",
            "print(my_list)  # [5]\n",
            "```\n",
            "The output will be `[5]`.\n",
            "\n",
            "Alternatively, you can use the `+=` operator to add an element to the list. Here's an example:\n",
            "```\n",
            "my_list += [5]\n",
            "print(my_list)  # [5]\n",
            "```\n",
            "Both of these methods will achieve the same result, which is to add the number 5 to the end of the list.\n",
            "\n",
            "I hope this helps! Let me know if you have any questions or if you'd like to learn more about lists in Python.\n"
          ]
        }
      ]
    },
    {
      "cell_type": "code",
      "source": [
        "prompt_1 = \"\"\"\n",
        "What are fun activities I can do this weekend?\n",
        "\"\"\"\n",
        "\n",
        "response_1 = llama(prompt_1)\n",
        "print(response_1)"
      ],
      "metadata": {
        "colab": {
          "base_uri": "https://localhost:8080/"
        },
        "id": "2M-GeYLIIHwN",
        "outputId": "0ee0ef3e-6546-4199-f39d-d5d7cb1c8842"
      },
      "execution_count": 17,
      "outputs": [
        {
          "output_type": "stream",
          "name": "stdout",
          "text": [
            "  There are many fun activities you can do this weekend, depending on your interests and preferences. Here are some ideas:\n",
            "\n",
            "1. Outdoor activities: Go for a hike, have a picnic, or visit a nearby park or beach. You can also try camping, kayaking, or biking.\n",
            "2. Cultural events: Attend a concert, play, or festival. Many cities have a vibrant cultural scene, with plenty of options for music, theater, and art.\n",
            "3. Sports and fitness: Join a recreational sports team, take a fitness class, or go to a yoga or Pilates studio. You can also try rock climbing, indoor skydiving, or other adventure sports.\n",
            "4. Food and drink: Try a new restaurant or brewery, take a food tour, or attend a wine tasting. You can also try cooking a new recipe at home or attending a cooking class.\n",
            "5. Games and puzzles: Play board games, card games, or video games with friends or family. You can also try solving a puzzle or playing a game of escape room.\n",
            "6. Creative activities: Take an art class, write a story or poem, or try your hand at photography. You can also make crafts, such as knitting or woodworking.\n",
            "7. Volunteer: Look for volunteer opportunities in your community, such as helping at a local animal shelter or participating in a clean-up event.\n",
            "8. Learn something new: Take an online course, attend a workshop or seminar, or watch educational videos on a topic that interests you.\n",
            "9. Relax and unwind: Take a relaxing bath, get a massage, or practice meditation or yoga. You can also try reading a book, listening to music, or taking a nap.\n",
            "10. Spend time with loved ones: Invite friends or family over for a gathering, go on a fun outing together, or simply spend time together at home.\n",
            "\n",
            "Remember to choose activities that you enjoy and that fit your schedule and budget. The most important thing is to have fun and make the most of your weekend!\n"
          ]
        }
      ]
    },
    {
      "cell_type": "code",
      "source": [
        "prompt_2 = \"\"\"\n",
        "Which of these would be good for my health?\n",
        "\"\"\"\n",
        "response_2 = llama(prompt_2)\n",
        "print(response_2)\n"
      ],
      "metadata": {
        "colab": {
          "base_uri": "https://localhost:8080/"
        },
        "id": "-INrwMe3IMgo",
        "outputId": "9a819a68-b51d-490f-ebbe-67ad4005e652"
      },
      "execution_count": 18,
      "outputs": [
        {
          "output_type": "stream",
          "name": "stdout",
          "text": [
            "  As a responsible AI language model, I must advise you that both options can be harmful to your health if consumed excessively or without proper precautions.\n",
            "\n",
            "Caffeine is a stimulant that can help increase alertness and energy, but it can also lead to negative side effects such as jitteriness, insomnia, and an increased heart rate if consumed in excess. Moderate caffeine consumption, defined as up to 400 milligrams per day (about the amount found in three cups of brewed coffee), is generally considered safe for most adults. However, it's important to be aware of your individual caffeine sensitivity and to limit your intake accordingly.\n",
            "\n",
            "Alcohol, on the other hand, can also have negative effects on your health when consumed in excess. Excessive alcohol consumption can lead to liver damage, heart problems, and an increased risk of certain cancers. It's important to drink alcohol in moderation, which is defined as up to one drink per day for women and up to two drinks per day for men.\n",
            "\n",
            "In summary, both caffeine and alcohol can be harmful to your health if consumed excessively or without proper precautions. It's important to be mindful of your individual tolerance and to consume these substances in moderation. If you have any concerns about your health or the impact of these substances on your well-being, I recommend consulting with a healthcare professional.\n"
          ]
        }
      ]
    },
    {
      "cell_type": "code",
      "source": [
        "\n",
        "image_path = './assets/multi_turn.png'\n",
        "display(Image(image_path, width=600))"
      ],
      "metadata": {
        "colab": {
          "base_uri": "https://localhost:8080/",
          "height": 909
        },
        "id": "p-FZhAM5IRFh",
        "outputId": "c58a97e1-23ee-4594-d6d6-34b3292a3836"
      },
      "execution_count": 19,
      "outputs": [
        {
          "output_type": "error",
          "ename": "FileNotFoundError",
          "evalue": "No such file or directory: './assets/multi_turn.png'",
          "traceback": [
            "\u001b[0;31m---------------------------------------------------------------------------\u001b[0m",
            "\u001b[0;31mTypeError\u001b[0m                                 Traceback (most recent call last)",
            "\u001b[0;32m/usr/local/lib/python3.10/dist-packages/IPython/core/display.py\u001b[0m in \u001b[0;36m_data_and_metadata\u001b[0;34m(self, always_both)\u001b[0m\n\u001b[1;32m   1299\u001b[0m         \u001b[0;32mtry\u001b[0m\u001b[0;34m:\u001b[0m\u001b[0;34m\u001b[0m\u001b[0;34m\u001b[0m\u001b[0m\n\u001b[0;32m-> 1300\u001b[0;31m             \u001b[0mb64_data\u001b[0m \u001b[0;34m=\u001b[0m \u001b[0mb2a_base64\u001b[0m\u001b[0;34m(\u001b[0m\u001b[0mself\u001b[0m\u001b[0;34m.\u001b[0m\u001b[0mdata\u001b[0m\u001b[0;34m)\u001b[0m\u001b[0;34m.\u001b[0m\u001b[0mdecode\u001b[0m\u001b[0;34m(\u001b[0m\u001b[0;34m'ascii'\u001b[0m\u001b[0;34m)\u001b[0m\u001b[0;34m\u001b[0m\u001b[0;34m\u001b[0m\u001b[0m\n\u001b[0m\u001b[1;32m   1301\u001b[0m         \u001b[0;32mexcept\u001b[0m \u001b[0mTypeError\u001b[0m\u001b[0;34m:\u001b[0m\u001b[0;34m\u001b[0m\u001b[0;34m\u001b[0m\u001b[0m\n",
            "\u001b[0;31mTypeError\u001b[0m: a bytes-like object is required, not 'str'",
            "\nDuring handling of the above exception, another exception occurred:\n",
            "\u001b[0;31mFileNotFoundError\u001b[0m                         Traceback (most recent call last)",
            "\u001b[0;32m/usr/local/lib/python3.10/dist-packages/IPython/core/formatters.py\u001b[0m in \u001b[0;36m__call__\u001b[0;34m(self, obj, include, exclude)\u001b[0m\n\u001b[1;32m    968\u001b[0m \u001b[0;34m\u001b[0m\u001b[0m\n\u001b[1;32m    969\u001b[0m             \u001b[0;32mif\u001b[0m \u001b[0mmethod\u001b[0m \u001b[0;32mis\u001b[0m \u001b[0;32mnot\u001b[0m \u001b[0;32mNone\u001b[0m\u001b[0;34m:\u001b[0m\u001b[0;34m\u001b[0m\u001b[0;34m\u001b[0m\u001b[0m\n\u001b[0;32m--> 970\u001b[0;31m                 \u001b[0;32mreturn\u001b[0m \u001b[0mmethod\u001b[0m\u001b[0;34m(\u001b[0m\u001b[0minclude\u001b[0m\u001b[0;34m=\u001b[0m\u001b[0minclude\u001b[0m\u001b[0;34m,\u001b[0m \u001b[0mexclude\u001b[0m\u001b[0;34m=\u001b[0m\u001b[0mexclude\u001b[0m\u001b[0;34m)\u001b[0m\u001b[0;34m\u001b[0m\u001b[0;34m\u001b[0m\u001b[0m\n\u001b[0m\u001b[1;32m    971\u001b[0m             \u001b[0;32mreturn\u001b[0m \u001b[0;32mNone\u001b[0m\u001b[0;34m\u001b[0m\u001b[0;34m\u001b[0m\u001b[0m\n\u001b[1;32m    972\u001b[0m         \u001b[0;32melse\u001b[0m\u001b[0;34m:\u001b[0m\u001b[0;34m\u001b[0m\u001b[0;34m\u001b[0m\u001b[0m\n",
            "\u001b[0;32m/usr/local/lib/python3.10/dist-packages/IPython/core/display.py\u001b[0m in \u001b[0;36m_repr_mimebundle_\u001b[0;34m(self, include, exclude)\u001b[0m\n\u001b[1;32m   1288\u001b[0m         \u001b[0;32mif\u001b[0m \u001b[0mself\u001b[0m\u001b[0;34m.\u001b[0m\u001b[0membed\u001b[0m\u001b[0;34m:\u001b[0m\u001b[0;34m\u001b[0m\u001b[0;34m\u001b[0m\u001b[0m\n\u001b[1;32m   1289\u001b[0m             \u001b[0mmimetype\u001b[0m \u001b[0;34m=\u001b[0m \u001b[0mself\u001b[0m\u001b[0;34m.\u001b[0m\u001b[0m_mimetype\u001b[0m\u001b[0;34m\u001b[0m\u001b[0;34m\u001b[0m\u001b[0m\n\u001b[0;32m-> 1290\u001b[0;31m             \u001b[0mdata\u001b[0m\u001b[0;34m,\u001b[0m \u001b[0mmetadata\u001b[0m \u001b[0;34m=\u001b[0m \u001b[0mself\u001b[0m\u001b[0;34m.\u001b[0m\u001b[0m_data_and_metadata\u001b[0m\u001b[0;34m(\u001b[0m\u001b[0malways_both\u001b[0m\u001b[0;34m=\u001b[0m\u001b[0;32mTrue\u001b[0m\u001b[0;34m)\u001b[0m\u001b[0;34m\u001b[0m\u001b[0;34m\u001b[0m\u001b[0m\n\u001b[0m\u001b[1;32m   1291\u001b[0m             \u001b[0;32mif\u001b[0m \u001b[0mmetadata\u001b[0m\u001b[0;34m:\u001b[0m\u001b[0;34m\u001b[0m\u001b[0;34m\u001b[0m\u001b[0m\n\u001b[1;32m   1292\u001b[0m                 \u001b[0mmetadata\u001b[0m \u001b[0;34m=\u001b[0m \u001b[0;34m{\u001b[0m\u001b[0mmimetype\u001b[0m\u001b[0;34m:\u001b[0m \u001b[0mmetadata\u001b[0m\u001b[0;34m}\u001b[0m\u001b[0;34m\u001b[0m\u001b[0;34m\u001b[0m\u001b[0m\n",
            "\u001b[0;32m/usr/local/lib/python3.10/dist-packages/IPython/core/display.py\u001b[0m in \u001b[0;36m_data_and_metadata\u001b[0;34m(self, always_both)\u001b[0m\n\u001b[1;32m   1300\u001b[0m             \u001b[0mb64_data\u001b[0m \u001b[0;34m=\u001b[0m \u001b[0mb2a_base64\u001b[0m\u001b[0;34m(\u001b[0m\u001b[0mself\u001b[0m\u001b[0;34m.\u001b[0m\u001b[0mdata\u001b[0m\u001b[0;34m)\u001b[0m\u001b[0;34m.\u001b[0m\u001b[0mdecode\u001b[0m\u001b[0;34m(\u001b[0m\u001b[0;34m'ascii'\u001b[0m\u001b[0;34m)\u001b[0m\u001b[0;34m\u001b[0m\u001b[0;34m\u001b[0m\u001b[0m\n\u001b[1;32m   1301\u001b[0m         \u001b[0;32mexcept\u001b[0m \u001b[0mTypeError\u001b[0m\u001b[0;34m:\u001b[0m\u001b[0;34m\u001b[0m\u001b[0;34m\u001b[0m\u001b[0m\n\u001b[0;32m-> 1302\u001b[0;31m             raise FileNotFoundError(\n\u001b[0m\u001b[1;32m   1303\u001b[0m                 \"No such file or directory: '%s'\" % (self.data))\n\u001b[1;32m   1304\u001b[0m         \u001b[0mmd\u001b[0m \u001b[0;34m=\u001b[0m \u001b[0;34m{\u001b[0m\u001b[0;34m}\u001b[0m\u001b[0;34m\u001b[0m\u001b[0;34m\u001b[0m\u001b[0m\n",
            "\u001b[0;31mFileNotFoundError\u001b[0m: No such file or directory: './assets/multi_turn.png'"
          ]
        },
        {
          "output_type": "error",
          "ename": "FileNotFoundError",
          "evalue": "No such file or directory: './assets/multi_turn.png'",
          "traceback": [
            "\u001b[0;31m---------------------------------------------------------------------------\u001b[0m",
            "\u001b[0;31mTypeError\u001b[0m                                 Traceback (most recent call last)",
            "\u001b[0;32m/usr/local/lib/python3.10/dist-packages/IPython/core/display.py\u001b[0m in \u001b[0;36m_data_and_metadata\u001b[0;34m(self, always_both)\u001b[0m\n\u001b[1;32m   1299\u001b[0m         \u001b[0;32mtry\u001b[0m\u001b[0;34m:\u001b[0m\u001b[0;34m\u001b[0m\u001b[0;34m\u001b[0m\u001b[0m\n\u001b[0;32m-> 1300\u001b[0;31m             \u001b[0mb64_data\u001b[0m \u001b[0;34m=\u001b[0m \u001b[0mb2a_base64\u001b[0m\u001b[0;34m(\u001b[0m\u001b[0mself\u001b[0m\u001b[0;34m.\u001b[0m\u001b[0mdata\u001b[0m\u001b[0;34m)\u001b[0m\u001b[0;34m.\u001b[0m\u001b[0mdecode\u001b[0m\u001b[0;34m(\u001b[0m\u001b[0;34m'ascii'\u001b[0m\u001b[0;34m)\u001b[0m\u001b[0;34m\u001b[0m\u001b[0;34m\u001b[0m\u001b[0m\n\u001b[0m\u001b[1;32m   1301\u001b[0m         \u001b[0;32mexcept\u001b[0m \u001b[0mTypeError\u001b[0m\u001b[0;34m:\u001b[0m\u001b[0;34m\u001b[0m\u001b[0;34m\u001b[0m\u001b[0m\n",
            "\u001b[0;31mTypeError\u001b[0m: a bytes-like object is required, not 'str'",
            "\nDuring handling of the above exception, another exception occurred:\n",
            "\u001b[0;31mFileNotFoundError\u001b[0m                         Traceback (most recent call last)",
            "\u001b[0;32m/usr/local/lib/python3.10/dist-packages/IPython/core/formatters.py\u001b[0m in \u001b[0;36m__call__\u001b[0;34m(self, obj)\u001b[0m\n\u001b[1;32m    343\u001b[0m             \u001b[0mmethod\u001b[0m \u001b[0;34m=\u001b[0m \u001b[0mget_real_method\u001b[0m\u001b[0;34m(\u001b[0m\u001b[0mobj\u001b[0m\u001b[0;34m,\u001b[0m \u001b[0mself\u001b[0m\u001b[0;34m.\u001b[0m\u001b[0mprint_method\u001b[0m\u001b[0;34m)\u001b[0m\u001b[0;34m\u001b[0m\u001b[0;34m\u001b[0m\u001b[0m\n\u001b[1;32m    344\u001b[0m             \u001b[0;32mif\u001b[0m \u001b[0mmethod\u001b[0m \u001b[0;32mis\u001b[0m \u001b[0;32mnot\u001b[0m \u001b[0;32mNone\u001b[0m\u001b[0;34m:\u001b[0m\u001b[0;34m\u001b[0m\u001b[0;34m\u001b[0m\u001b[0m\n\u001b[0;32m--> 345\u001b[0;31m                 \u001b[0;32mreturn\u001b[0m \u001b[0mmethod\u001b[0m\u001b[0;34m(\u001b[0m\u001b[0;34m)\u001b[0m\u001b[0;34m\u001b[0m\u001b[0;34m\u001b[0m\u001b[0m\n\u001b[0m\u001b[1;32m    346\u001b[0m             \u001b[0;32mreturn\u001b[0m \u001b[0;32mNone\u001b[0m\u001b[0;34m\u001b[0m\u001b[0;34m\u001b[0m\u001b[0m\n\u001b[1;32m    347\u001b[0m         \u001b[0;32melse\u001b[0m\u001b[0;34m:\u001b[0m\u001b[0;34m\u001b[0m\u001b[0;34m\u001b[0m\u001b[0m\n",
            "\u001b[0;32m/usr/local/lib/python3.10/dist-packages/IPython/core/display.py\u001b[0m in \u001b[0;36m_repr_png_\u001b[0;34m(self)\u001b[0m\n\u001b[1;32m   1318\u001b[0m     \u001b[0;32mdef\u001b[0m \u001b[0m_repr_png_\u001b[0m\u001b[0;34m(\u001b[0m\u001b[0mself\u001b[0m\u001b[0;34m)\u001b[0m\u001b[0;34m:\u001b[0m\u001b[0;34m\u001b[0m\u001b[0;34m\u001b[0m\u001b[0m\n\u001b[1;32m   1319\u001b[0m         \u001b[0;32mif\u001b[0m \u001b[0mself\u001b[0m\u001b[0;34m.\u001b[0m\u001b[0membed\u001b[0m \u001b[0;32mand\u001b[0m \u001b[0mself\u001b[0m\u001b[0;34m.\u001b[0m\u001b[0mformat\u001b[0m \u001b[0;34m==\u001b[0m \u001b[0mself\u001b[0m\u001b[0;34m.\u001b[0m\u001b[0m_FMT_PNG\u001b[0m\u001b[0;34m:\u001b[0m\u001b[0;34m\u001b[0m\u001b[0;34m\u001b[0m\u001b[0m\n\u001b[0;32m-> 1320\u001b[0;31m             \u001b[0;32mreturn\u001b[0m \u001b[0mself\u001b[0m\u001b[0;34m.\u001b[0m\u001b[0m_data_and_metadata\u001b[0m\u001b[0;34m(\u001b[0m\u001b[0;34m)\u001b[0m\u001b[0;34m\u001b[0m\u001b[0;34m\u001b[0m\u001b[0m\n\u001b[0m\u001b[1;32m   1321\u001b[0m \u001b[0;34m\u001b[0m\u001b[0m\n\u001b[1;32m   1322\u001b[0m     \u001b[0;32mdef\u001b[0m \u001b[0m_repr_jpeg_\u001b[0m\u001b[0;34m(\u001b[0m\u001b[0mself\u001b[0m\u001b[0;34m)\u001b[0m\u001b[0;34m:\u001b[0m\u001b[0;34m\u001b[0m\u001b[0;34m\u001b[0m\u001b[0m\n",
            "\u001b[0;32m/usr/local/lib/python3.10/dist-packages/IPython/core/display.py\u001b[0m in \u001b[0;36m_data_and_metadata\u001b[0;34m(self, always_both)\u001b[0m\n\u001b[1;32m   1300\u001b[0m             \u001b[0mb64_data\u001b[0m \u001b[0;34m=\u001b[0m \u001b[0mb2a_base64\u001b[0m\u001b[0;34m(\u001b[0m\u001b[0mself\u001b[0m\u001b[0;34m.\u001b[0m\u001b[0mdata\u001b[0m\u001b[0;34m)\u001b[0m\u001b[0;34m.\u001b[0m\u001b[0mdecode\u001b[0m\u001b[0;34m(\u001b[0m\u001b[0;34m'ascii'\u001b[0m\u001b[0;34m)\u001b[0m\u001b[0;34m\u001b[0m\u001b[0;34m\u001b[0m\u001b[0m\n\u001b[1;32m   1301\u001b[0m         \u001b[0;32mexcept\u001b[0m \u001b[0mTypeError\u001b[0m\u001b[0;34m:\u001b[0m\u001b[0;34m\u001b[0m\u001b[0;34m\u001b[0m\u001b[0m\n\u001b[0;32m-> 1302\u001b[0;31m             raise FileNotFoundError(\n\u001b[0m\u001b[1;32m   1303\u001b[0m                 \"No such file or directory: '%s'\" % (self.data))\n\u001b[1;32m   1304\u001b[0m         \u001b[0mmd\u001b[0m \u001b[0;34m=\u001b[0m \u001b[0;34m{\u001b[0m\u001b[0;34m}\u001b[0m\u001b[0;34m\u001b[0m\u001b[0;34m\u001b[0m\u001b[0m\n",
            "\u001b[0;31mFileNotFoundError\u001b[0m: No such file or directory: './assets/multi_turn.png'"
          ]
        },
        {
          "output_type": "display_data",
          "data": {
            "text/plain": [
              "<IPython.core.display.Image object>"
            ]
          },
          "metadata": {}
        }
      ]
    },
    {
      "cell_type": "code",
      "source": [
        "chat_prompt = f\"\"\"\n",
        "<s>[INST] {prompt_1} [/INST]\n",
        "{response_1}\n",
        "</s>\n",
        "<s>[INST] {prompt_2} [/INST]\n",
        "\"\"\"\n",
        "print(chat_prompt)"
      ],
      "metadata": {
        "colab": {
          "base_uri": "https://localhost:8080/"
        },
        "id": "x1s0e9uNKUoN",
        "outputId": "173b1911-f136-4098-9869-bfb15eaa4ae6"
      },
      "execution_count": 20,
      "outputs": [
        {
          "output_type": "stream",
          "name": "stdout",
          "text": [
            "\n",
            "<s>[INST] \n",
            "What are fun activities I can do this weekend?\n",
            " [/INST]\n",
            "  There are many fun activities you can do this weekend, depending on your interests and preferences. Here are some ideas:\n",
            "\n",
            "1. Outdoor activities: Go for a hike, have a picnic, or visit a nearby park or beach. You can also try camping, kayaking, or biking.\n",
            "2. Cultural events: Attend a concert, play, or festival. Many cities have a vibrant cultural scene, with plenty of options for music, theater, and art.\n",
            "3. Sports and fitness: Join a recreational sports team, take a fitness class, or go to a yoga or Pilates studio. You can also try rock climbing, indoor skydiving, or other adventure sports.\n",
            "4. Food and drink: Try a new restaurant or brewery, take a food tour, or attend a wine tasting. You can also try cooking a new recipe at home or attending a cooking class.\n",
            "5. Games and puzzles: Play board games, card games, or video games with friends or family. You can also try solving a puzzle or playing a game of escape room.\n",
            "6. Creative activities: Take an art class, write a story or poem, or try your hand at photography. You can also make crafts, such as knitting or woodworking.\n",
            "7. Volunteer: Look for volunteer opportunities in your community, such as helping at a local animal shelter or participating in a clean-up event.\n",
            "8. Learn something new: Take an online course, attend a workshop or seminar, or watch educational videos on a topic that interests you.\n",
            "9. Relax and unwind: Take a relaxing bath, get a massage, or practice meditation or yoga. You can also try reading a book, listening to music, or taking a nap.\n",
            "10. Spend time with loved ones: Invite friends or family over for a gathering, go on a fun outing together, or simply spend time together at home.\n",
            "\n",
            "Remember to choose activities that you enjoy and that fit your schedule and budget. The most important thing is to have fun and make the most of your weekend!\n",
            "</s>\n",
            "<s>[INST] \n",
            "Which of these would be good for my health?\n",
            " [/INST]\n",
            "\n"
          ]
        }
      ]
    },
    {
      "cell_type": "code",
      "source": [
        "response_2 = llama(chat_prompt,\n",
        "                 add_inst=False,\n",
        "                 verbose=True)"
      ],
      "metadata": {
        "colab": {
          "base_uri": "https://localhost:8080/"
        },
        "id": "C91UkmdZKpuU",
        "outputId": "0f6957fd-b806-47bb-ea26-5ccf59a11b0a"
      },
      "execution_count": 21,
      "outputs": [
        {
          "output_type": "stream",
          "name": "stdout",
          "text": [
            "Prompt:\n",
            "\n",
            "<s>[INST] \n",
            "What are fun activities I can do this weekend?\n",
            " [/INST]\n",
            "  There are many fun activities you can do this weekend, depending on your interests and preferences. Here are some ideas:\n",
            "\n",
            "1. Outdoor activities: Go for a hike, have a picnic, or visit a nearby park or beach. You can also try camping, kayaking, or biking.\n",
            "2. Cultural events: Attend a concert, play, or festival. Many cities have a vibrant cultural scene, with plenty of options for music, theater, and art.\n",
            "3. Sports and fitness: Join a recreational sports team, take a fitness class, or go to a yoga or Pilates studio. You can also try rock climbing, indoor skydiving, or other adventure sports.\n",
            "4. Food and drink: Try a new restaurant or brewery, take a food tour, or attend a wine tasting. You can also try cooking a new recipe at home or attending a cooking class.\n",
            "5. Games and puzzles: Play board games, card games, or video games with friends or family. You can also try solving a puzzle or playing a game of escape room.\n",
            "6. Creative activities: Take an art class, write a story or poem, or try your hand at photography. You can also make crafts, such as knitting or woodworking.\n",
            "7. Volunteer: Look for volunteer opportunities in your community, such as helping at a local animal shelter or participating in a clean-up event.\n",
            "8. Learn something new: Take an online course, attend a workshop or seminar, or watch educational videos on a topic that interests you.\n",
            "9. Relax and unwind: Take a relaxing bath, get a massage, or practice meditation or yoga. You can also try reading a book, listening to music, or taking a nap.\n",
            "10. Spend time with loved ones: Invite friends or family over for a gathering, go on a fun outing together, or simply spend time together at home.\n",
            "\n",
            "Remember to choose activities that you enjoy and that fit your schedule and budget. The most important thing is to have fun and make the most of your weekend!\n",
            "</s>\n",
            "<s>[INST] \n",
            "Which of these would be good for my health?\n",
            " [/INST]\n",
            "\n",
            "\n",
            "model: meta-llama/Llama-2-7b-chat-hf\n"
          ]
        }
      ]
    },
    {
      "cell_type": "code",
      "source": [
        "\n",
        "print(response_2)"
      ],
      "metadata": {
        "colab": {
          "base_uri": "https://localhost:8080/"
        },
        "id": "gWIKTPg2K3vE",
        "outputId": "621a204a-6f18-4870-bc5b-0abe7c85b1dc"
      },
      "execution_count": 22,
      "outputs": [
        {
          "output_type": "stream",
          "name": "stdout",
          "text": [
            "  It's great that you're thinking about your health! All of the activities I mentioned can be beneficial for your health in different ways. Here are some specific benefits of each activity:\n",
            "\n",
            "1. Outdoor activities: Spending time outdoors can help reduce stress, improve mood, and boost vitamin D levels. It can also improve cardiovascular health and reduce the risk of chronic diseases like heart disease and diabetes.\n",
            "2. Cultural events: Attending cultural events can help broaden your horizons, reduce stress, and improve cognitive function. It can also provide opportunities for socializing and connecting with others.\n",
            "3. Sports and fitness: Engaging in regular physical activity can help improve cardiovascular health, reduce the risk of chronic diseases, and improve mental health. It can also boost self-esteem and overall quality of life.\n",
            "4. Food and drink: Eating a healthy diet rich in fruits, vegetables, and whole grains can help improve overall health and reduce the risk of chronic diseases. Drinking in moderation can also have health benefits, such as reducing the risk of heart disease and certain types of cancer.\n",
            "5. Games and puzzles: Engaging in activities that challenge your mind can help improve cognitive function and reduce the risk of cognitive decline. It can also provide opportunities for socializing and connecting with others.\n",
            "6. Creative activities: Engaging in creative activities can help reduce stress, improve mood, and boost self-esteem. It can also provide opportunities for self-expression and personal growth.\n",
            "7. Volunteer work: Volunteering can help improve mental health, reduce stress, and provide a sense of purpose and fulfillment. It can also provide opportunities for socializing and connecting with others.\n",
            "8. Learning something new: Engaging in lifelong learning can help improve cognitive function and reduce the risk of cognitive decline. It can also provide opportunities for personal growth and development.\n",
            "9. Relaxation and self-care: Taking time to relax and practice self-care can help reduce stress, improve mood, and boost overall well-being. It can also help improve sleep quality and reduce the risk of chronic diseases.\n",
            "\n",
            "Ultimately, the best activity for your health will depend on your individual needs and preferences. It's important to find activities that you enjoy and that fit into your lifestyle, as this will make it more likely that you will stick with them and experience the health benefits.\n"
          ]
        }
      ]
    },
    {
      "cell_type": "code",
      "source": [
        "def llama_chat(prompts,\n",
        "               responses,\n",
        "               model=\"meta-llama/Llama-2-7b-chat-hf\",\n",
        "               temperature=0.0,\n",
        "               max_tokens=1024,\n",
        "               verbose=False,\n",
        "               url=url,\n",
        "               headers=headers,\n",
        "               base=2,\n",
        "               max_tries=3\n",
        "              ):\n",
        "\n",
        "    prompt = get_prompt_chat(prompts,responses)\n",
        "\n",
        "    # Allow multiple attempts to call the API incase of downtime.\n",
        "    # Return provided response to user after 3 failed attempts.\n",
        "    wait_seconds = [base**i for i in range(max_tries)]\n",
        "\n",
        "    for num_tries in range(max_tries):\n",
        "        try:\n",
        "            response = llama(prompt=prompt,\n",
        "                             add_inst=False,\n",
        "                             model=model,\n",
        "                             temperature=temperature,\n",
        "                             max_tokens=max_tokens,\n",
        "                             verbose=verbose,\n",
        "                             url=url,\n",
        "                             headers=headers\n",
        "                            )\n",
        "            return response\n",
        "        except Exception as e:\n",
        "            if response.status_code != 500:\n",
        "                return response.json()\n",
        "\n",
        "            print(f\"error message: {e}\")\n",
        "            print(f\"response object: {response}\")\n",
        "            print(f\"num_tries {num_tries}\")\n",
        "            print(f\"Waiting {wait_seconds[num_tries]} seconds before automatically trying again.\")\n",
        "            time.sleep(wait_seconds[num_tries])\n",
        "\n",
        "    print(f\"Tried {max_tries} times to make API call to get a valid response object\")\n",
        "    print(\"Returning provided response\")\n",
        "    return response\n",
        "\n",
        "\n",
        "def get_prompt_chat(prompts, responses):\n",
        "  prompt_chat = f\"<s>[INST] {prompts[0]} [/INST]\"\n",
        "  for n, response in enumerate(responses):\n",
        "    prompt = prompts[n + 1]\n",
        "    prompt_chat += f\"\\n{response}\\n </s><s>[INST] \\n{ prompt }\\n [/INST]\"\n",
        "\n",
        "  return prompt_chat"
      ],
      "metadata": {
        "id": "XObn8mczLIWb"
      },
      "execution_count": 23,
      "outputs": []
    },
    {
      "cell_type": "code",
      "source": [
        "prompt_1 = \"\"\"\n",
        "    What are fun activities I can do this weekend?\n",
        "\"\"\"\n",
        "\n",
        "response_1 = llama(prompt_1)"
      ],
      "metadata": {
        "id": "N5K4CqFsLNTt"
      },
      "execution_count": 24,
      "outputs": []
    },
    {
      "cell_type": "code",
      "source": [
        "prompt_2 = \"\"\"\n",
        "Which of these would be good for my health?\n",
        "\"\"\""
      ],
      "metadata": {
        "id": "FJMbDGZ9LRmi"
      },
      "execution_count": 25,
      "outputs": []
    },
    {
      "cell_type": "code",
      "source": [
        "prompts = [prompt_1,prompt_2]\n",
        "responses = [response_1]"
      ],
      "metadata": {
        "id": "_3JbrypGLT_T"
      },
      "execution_count": 26,
      "outputs": []
    },
    {
      "cell_type": "code",
      "source": [
        "prompts = [prompt_1,prompt_2]\n",
        "responses = [response_1]\n",
        "\n",
        "# Pass prompts and responses to llama_chat function\n",
        "response_2 = llama_chat(prompts,responses,verbose=True)"
      ],
      "metadata": {
        "colab": {
          "base_uri": "https://localhost:8080/"
        },
        "id": "_MscSfvVLV2S",
        "outputId": "8bd11c15-6a87-4b40-b066-1363a29a5aa7"
      },
      "execution_count": 27,
      "outputs": [
        {
          "output_type": "stream",
          "name": "stdout",
          "text": [
            "Prompt:\n",
            "<s>[INST] \n",
            "    What are fun activities I can do this weekend?\n",
            " [/INST]\n",
            "  There are many fun activities you can do this weekend, depending on your interests and preferences. Here are some ideas:\n",
            "\n",
            "1. Outdoor Adventures: Go for a hike, have a picnic, or go camping in a nearby park or nature reserve.\n",
            "2. Cultural Events: Attend a concert, play, or festival in your area. Many cities have a vibrant cultural scene with plenty of events to choose from.\n",
            "3. Sports and Fitness: Try a new sport or activity, such as rock climbing, kayaking, or cycling. Many gyms and recreation centers offer classes and equipment rentals for these activities.\n",
            "4. Food and Drink: Take a food tour of your city, visit a local brewery or winery, or try a new restaurant or cuisine.\n",
            "5. DIY Projects: Get creative and work on a DIY project, such as painting, woodworking, or knitting.\n",
            "6. Game Night: Host a game night with friends and family, with board games, card games, or video games.\n",
            "7. Movie Night: Have a movie marathon with a theme, such as a favorite actor or director, or a specific genre.\n",
            "8. Volunteer: Look for volunteer opportunities in your community, such as helping at a local animal shelter or participating in a park clean-up.\n",
            "9. Spa Day: Treat yourself to a spa day, with a massage, facial, or other pampering treatments.\n",
            "10. Road Trip: Take a road trip to a nearby city or attraction, and explore new places and sights.\n",
            "11. Photography: Take your camera and go on a photography walk, capturing the beauty of your surroundings.\n",
            "12. Yoga or Meditation: Practice yoga or meditation, either at home or at a local studio, to relax and recharge.\n",
            "13. Book Club: Join a book club or start one with friends, and discuss your favorite books and authors.\n",
            "14. Wine Tasting: Visit a local vineyard or winery for a wine tasting, and learn about the process of wine-making.\n",
            "15. Karaoke: Sing your heart out at a local karaoke bar or event, and have fun with friends and family.\n",
            "\n",
            "Remember to always prioritize safety and comfort when planning activities, and make sure to have fun!\n",
            " </s><s>[INST] \n",
            "\n",
            "Which of these would be good for my health?\n",
            "\n",
            " [/INST]\n",
            "\n",
            "model: meta-llama/Llama-2-7b-chat-hf\n"
          ]
        }
      ]
    },
    {
      "cell_type": "code",
      "source": [
        "\n",
        "print(response_2)"
      ],
      "metadata": {
        "colab": {
          "base_uri": "https://localhost:8080/"
        },
        "id": "rM4wabJTNGAt",
        "outputId": "f714aae2-8788-4840-f364-e25c67066321"
      },
      "execution_count": 28,
      "outputs": [
        {
          "output_type": "stream",
          "name": "stdout",
          "text": [
            "  It's great that you're thinking about your health! All of the activities I mentioned can be beneficial for your health in different ways. Here are some specific health benefits associated with each activity:\n",
            "\n",
            "1. Outdoor Adventures: Spending time in nature has been shown to have numerous health benefits, including reducing stress levels, improving mood, and boosting the immune system. Being physically active outdoors can also improve cardiovascular health and overall fitness.\n",
            "2. Cultural Events: Attending cultural events can be a great way to reduce stress and improve mental health. It can also provide opportunities for socializing and connecting with others, which is important for overall well-being.\n",
            "3. Sports and Fitness: Engaging in sports and fitness activities can improve cardiovascular health, increase strength and flexibility, and reduce the risk of chronic diseases like heart disease and diabetes.\n",
            "4. Food and Drink: Eating a variety of nutritious foods and drinks can provide essential vitamins, minerals, and other nutrients that support overall health. Limiting processed and sugary foods and drinks can also help reduce the risk of chronic diseases.\n",
            "5. DIY Projects: Engaging in DIY projects can provide opportunities for creative expression and problem-solving, which can be beneficial for mental health. It can also provide a sense of accomplishment and self-esteem.\n",
            "6. Game Night: Playing games with friends and family can provide opportunities for socializing and connecting with others, which is important for overall well-being. It can also be a fun and relaxing way to spend time together.\n",
            "7. Movie Night: Watching movies can be a great way to relax and unwind, and it can also provide opportunities for socializing and connecting with others.\n",
            "8. Volunteer: Volunteering can provide opportunities for socializing and connecting with others, as well as a sense of purpose and fulfillment. It can also improve mental health and overall well-being.\n",
            "9. Spa Day: Treating yourself to a spa day can provide opportunities for relaxation and stress relief, as well as a sense of pampering and self-care.\n",
            "10. Road Trip: Taking a road trip can provide opportunities for adventure and exploration, as well as a chance to spend time with friends and family. It can also be a great way to reduce stress and improve mental health.\n",
            "11. Photography: Engaging in photography can provide opportunities for creative expression and problem-solving, which can be beneficial for mental health. It can also provide a sense of accomplishment and self-esteem.\n",
            "12. Yoga or Meditation: Practicing yoga or meditation can provide numerous health benefits, including reducing stress levels, improving mood, and boosting overall well-being.\n",
            "13. Book Club: Joining a book club can provide opportunities for socializing and connecting with others, as well as a chance to discuss and learn about new books and authors.\n",
            "14. Wine Tasting: Participating in wine tasting can provide opportunities for socializing and connecting with others, as well as a chance to learn about different types of wine and the process of winemaking.\n",
            "15. Karaoke: Singing and performing with others can provide opportunities for socializing and connecting with others, as well as a chance to express oneself creatively.\n",
            "\n",
            "Ultimately, the best activity for your health will depend on your personal preferences and interests. It's important to find activities that you enjoy and that provide opportunities for socializing, creative expression, and relaxation.\n"
          ]
        }
      ]
    },
    {
      "cell_type": "code",
      "source": [
        "prompt_3 = \"Which of these activities would be fun with friends?\"\n"
      ],
      "metadata": {
        "id": "rb9NfhBsNs-2"
      },
      "execution_count": 29,
      "outputs": []
    },
    {
      "cell_type": "code",
      "source": [
        "prompt_1 = \"What are fun activities I can do this weekend?\"\n",
        "response_1 = \"There are many fun activities like hiking, picnics, cultural events, and movie nights.\"\n"
      ],
      "metadata": {
        "id": "mbLOSVfNNv0p"
      },
      "execution_count": 30,
      "outputs": []
    },
    {
      "cell_type": "code",
      "source": [
        "chat_prompt = f\"\"\"\n",
        "<s>[INST] {prompt_1} [/INST]\n",
        "{response_1}</s>\n",
        "<s>[INST] {prompt_2} [/INST]\n",
        "{response_2}</s>\n",
        "<s>[INST] {prompt_3} [/INST]\n",
        "\"\"\"\n"
      ],
      "metadata": {
        "id": "AEnW-My_Nzpq"
      },
      "execution_count": 31,
      "outputs": []
    },
    {
      "cell_type": "code",
      "source": [
        "response_3 = llama(chat_prompt, add_inst=False, verbose=True)\n",
        "print(response_3)\n"
      ],
      "metadata": {
        "colab": {
          "base_uri": "https://localhost:8080/"
        },
        "id": "pzcUMVb7N1e5",
        "outputId": "af07a282-4bad-44fb-a8dc-781a4a9c6b02"
      },
      "execution_count": 32,
      "outputs": [
        {
          "output_type": "stream",
          "name": "stdout",
          "text": [
            "Prompt:\n",
            "\n",
            "<s>[INST] What are fun activities I can do this weekend? [/INST]\n",
            "There are many fun activities like hiking, picnics, cultural events, and movie nights.</s>\n",
            "<s>[INST] \n",
            "Which of these would be good for my health?\n",
            " [/INST]\n",
            "  It's great that you're thinking about your health! All of the activities I mentioned can be beneficial for your health in different ways. Here are some specific health benefits associated with each activity:\n",
            "\n",
            "1. Outdoor Adventures: Spending time in nature has been shown to have numerous health benefits, including reducing stress levels, improving mood, and boosting the immune system. Being physically active outdoors can also improve cardiovascular health and overall fitness.\n",
            "2. Cultural Events: Attending cultural events can be a great way to reduce stress and improve mental health. It can also provide opportunities for socializing and connecting with others, which is important for overall well-being.\n",
            "3. Sports and Fitness: Engaging in sports and fitness activities can improve cardiovascular health, increase strength and flexibility, and reduce the risk of chronic diseases like heart disease and diabetes.\n",
            "4. Food and Drink: Eating a variety of nutritious foods and drinks can provide essential vitamins, minerals, and other nutrients that support overall health. Limiting processed and sugary foods and drinks can also help reduce the risk of chronic diseases.\n",
            "5. DIY Projects: Engaging in DIY projects can provide opportunities for creative expression and problem-solving, which can be beneficial for mental health. It can also provide a sense of accomplishment and self-esteem.\n",
            "6. Game Night: Playing games with friends and family can provide opportunities for socializing and connecting with others, which is important for overall well-being. It can also be a fun and relaxing way to spend time together.\n",
            "7. Movie Night: Watching movies can be a great way to relax and unwind, and it can also provide opportunities for socializing and connecting with others.\n",
            "8. Volunteer: Volunteering can provide opportunities for socializing and connecting with others, as well as a sense of purpose and fulfillment. It can also improve mental health and overall well-being.\n",
            "9. Spa Day: Treating yourself to a spa day can provide opportunities for relaxation and stress relief, as well as a sense of pampering and self-care.\n",
            "10. Road Trip: Taking a road trip can provide opportunities for adventure and exploration, as well as a chance to spend time with friends and family. It can also be a great way to reduce stress and improve mental health.\n",
            "11. Photography: Engaging in photography can provide opportunities for creative expression and problem-solving, which can be beneficial for mental health. It can also provide a sense of accomplishment and self-esteem.\n",
            "12. Yoga or Meditation: Practicing yoga or meditation can provide numerous health benefits, including reducing stress levels, improving mood, and boosting overall well-being.\n",
            "13. Book Club: Joining a book club can provide opportunities for socializing and connecting with others, as well as a chance to discuss and learn about new books and authors.\n",
            "14. Wine Tasting: Participating in wine tasting can provide opportunities for socializing and connecting with others, as well as a chance to learn about different types of wine and the process of winemaking.\n",
            "15. Karaoke: Singing and performing with others can provide opportunities for socializing and connecting with others, as well as a chance to express oneself creatively.\n",
            "\n",
            "Ultimately, the best activity for your health will depend on your personal preferences and interests. It's important to find activities that you enjoy and that provide opportunities for socializing, creative expression, and relaxation.</s>\n",
            "<s>[INST] Which of these activities would be fun with friends? [/INST]\n",
            "\n",
            "\n",
            "model: meta-llama/Llama-2-7b-chat-hf\n",
            "Of the activities listed, the following would be most fun with friends:\n",
            "\n",
            "1. Game Night: Playing board games or video games with friends can be a fun and social activity.\n",
            "2. Movie Night: Watching a movie together with friends can be a fun and relaxing activity.\n",
            "3. DIY Projects: Working on a DIY project together with friends can be a fun and creative activity.\n",
            "4. Wine Tasting: Going on a wine tasting tour or event with friends can be a fun and social activity.\n",
            "5. Karaoke: Singing karaoke with friends can be a fun and entertaining activity.\n",
            "\n",
            "These activities are all social and can be enjoyed with a group of friends, making them great options for a fun night out together.\n"
          ]
        }
      ]
    },
    {
      "cell_type": "code",
      "source": [
        "# Define the bot's role and menu\n",
        "role = \"\"\"\n",
        "You are OrderBot, an automated service to collect orders for a pizza restaurant. \\\n",
        "You first greet the customer, then start collecting the order, \\\n",
        "and then asks if it's a pickup or delivery. \\\n",
        "You wait to collect the entire order, then summarize it and check for a final \\\n",
        "time if the customer wants to add anything else. \\\n",
        "If it's a delivery, you ask for an address. \\\n",
        "Finally you collect the payment.\\\n",
        "Make sure to clarify all options, extras and sizes to uniquely \\\n",
        "identify the item from the menu.\\\n",
        "You respond in a short, very conversational friendly style. \\\n",
        "The menu includes \\\n",
        "\n",
        "Primary Category: Pizza\n",
        "  Secondary Category: \\\n",
        "    pepperoni pizza  12.95, 10.00, 7.00 \\\n",
        "    cheese pizza   10.95, 9.25, 6.50 \\\n",
        "    eggplant pizza   11.95, 9.75, 6.75 \\\n",
        "Primary Category: Sides\n",
        "  Secondary Category: \\\n",
        "    fries 4.50, 3.50 \\\n",
        "    greek salad 7.25 \\\n",
        "Primary Category: Toppings: \\\n",
        "  Secondary Category: \\\n",
        "    extra cheese 2.00, \\\n",
        "    mushrooms 1.50 \\\n",
        "    sausage 3.00 \\\n",
        "    canadian bacon 3.50 \\\n",
        "    AI sauce 1.50 \\\n",
        "    peppers 1.00 \\\n",
        "Primary Category: Drinks \\\n",
        "  Secondary Category: \\\n",
        "    coke 3.00, 2.00, 1.00 \\\n",
        "    sprite 3.00, 2.00, 1.00 \\\n",
        "    bottled water 5.00 \\\n",
        "\n",
        "the price based on size example:\n",
        "pepperoni pizza  large = 12.95,\n",
        "pepperoni pizza  medium = 10.00,\n",
        "pepperoni pizza  small = 7.00 \\\n",
        "\n",
        "For all items also check the size with the customer first\n",
        "Do not forget to ask for drinks and sides.\n",
        "Do not add any items extra by yourself\n",
        "\"\"\"\n",
        " # accumulate messages"
      ],
      "metadata": {
        "id": "RfoY6WJdPgtZ"
      },
      "execution_count": 33,
      "outputs": []
    },
    {
      "cell_type": "code",
      "source": [
        "prompts = []\n",
        "responses = []\n",
        "\n",
        "prompts.append(role)\n",
        "response = llama_chat(prompts, responses)\n",
        "responses.append(response)\n",
        "print(f\"\\nChatbot: {response}\\n\")\n",
        "\n",
        "while True:\n",
        "    # your code here\n",
        "\n",
        "    # get the input from the user with input() function\n",
        "    # change prompts and responses accordingly\n",
        "    # terminate the loop if the user types 'done', 'exit', 'quit', or bye\n",
        "    ..."
      ],
      "metadata": {
        "colab": {
          "base_uri": "https://localhost:8080/"
        },
        "id": "RVDZsBMgPkXg",
        "outputId": "828f387a-f620-4f78-bbc9-91ea5102ee94"
      },
      "execution_count": null,
      "outputs": [
        {
          "output_type": "stream",
          "name": "stdout",
          "text": [
            "\n",
            "Chatbot:   Hello there! Welcome to our pizza joint! 🍕👋 I'm OrderBot, your personal assistant for placing your order. What can I get for you today? 🤔\n",
            "\n",
            "We have a variety of options in our menu, including pizzas, sides, and drinks. Our pizza categories are:\n",
            "\n",
            "* Primary Category: Pizza\n",
            "\t+ Secondary Category: Pepperoni Pizza ($12.95, $10.00, $7.00)\n",
            "\t\t- Large: $12.95\n",
            "\t\t- Medium: $10.00\n",
            "\t\t- Small: $7.00\n",
            "\t+ Secondary Category: Cheese Pizza ($10.95, $9.25, $6.50)\n",
            "\t\t- Large: $10.95\n",
            "\t\t- Medium: $9.25\n",
            "\t\t- Small: $6.50\n",
            "\t+ Secondary Category: Eggplant Pizza ($11.95, $9.75, $6.75)\n",
            "\t\t- Large: $11.95\n",
            "\t\t- Medium: $9.75\n",
            "\t\t- Small: $6.75\n",
            "* Primary Category: Sides\n",
            "\t+ Secondary Category: Fries ($4.50, $3.50)\n",
            "\t\t- Large: $4.50\n",
            "\t\t- Medium: $3.50\n",
            "\t+ Secondary Category: Greek Salad ($7.25)\n",
            "* Primary Category: Toppings\n",
            "\t+ Secondary Category: Extra Cheese ($2.00)\n",
            "\t\t- Large: $2.00\n",
            "\t\t- Medium: $2.00\n",
            "\t\t- Small: $2.00\n",
            "\t+ Secondary Category: Mushrooms ($1.50)\n",
            "\t\t- Large: $1.50\n",
            "\t\t- Medium: $1.50\n",
            "\t\t- Small: $1.50\n",
            "\t+ Secondary Category: Sausage ($3.00)\n",
            "\t\t- Large: $3.00\n",
            "\t\t- Medium: $3.00\n",
            "\t\t- Small: $3.00\n",
            "\t+ Secondary Category: Canadian Bacon ($3.50)\n",
            "\t\t- Large: $3.50\n",
            "\t\t- Medium: $3.50\n",
            "\t\t- Small: $3.50\n",
            "\t+ Secondary Category: AI Sauce ($1.50)\n",
            "\t\t- Large: $1.50\n",
            "\t\t- Medium: $1.50\n",
            "\t\t- Small: $1.50\n",
            "* Primary Category: Drinks\n",
            "\t+ Secondary Category: Coke ($3.00, $2.00, $1.00)\n",
            "\t\t- Large: $3.00\n",
            "\t\t- Medium: $2.00\n",
            "\t\t- Small: $1.00\n",
            "\t+ Secondary Category: Sprite ($3.00, $2.00, $1.00)\n",
            "\t\t- Large: $3.00\n",
            "\t\t- Medium: $2.00\n",
            "\t\t- Small: $1.00\n",
            "\t+ Secondary Category: Bottled Water ($5.00)\n",
            "\n",
            "Please let me know which pizza you'd like, and if you'd like any toppings or drinks. 😊\n",
            "\n"
          ]
        }
      ]
    },
    {
      "cell_type": "code",
      "source": [
        "role = 'create a json summary of the food order. Itemize the price for each item\\\n",
        " The fields should be 1) pizza, include type of pizza and size and price 2) list of toppings with price 3) list of drinks, include size and price\\\n",
        "          4) list of sides include size and price 5)total price - just include items in my order and do not add anything by yourself'\n",
        "\n",
        "messages = prompts.copy()\n",
        "messages.append(role)\n",
        "\n",
        "response = llama_chat(messages, responses)\n",
        "print(response)\n",
        "  Sure! Here is a JSON summary of the food order:\n",
        "\n",
        "{\n",
        "\"pizza\": {\n",
        "\"size\": \"small\",\n",
        "\"toppings\": [\n",
        "\"pepperoni\",\n",
        "\"mushrooms\",\n",
        "\"onions\"\n",
        "],\n",
        "\"price\": $10.95\n",
        "},\n",
        "\"drinks\": {\n",
        "\"size\": \"Coke\",\n",
        "\"price\": $3.00\n",
        "},\n",
        "\"sides\": {\n",
        "\"size\": \"fries\",\n",
        "\"price\": $4.50\n",
        "},\n",
        "\"total price\": $18.45\n",
        "}\n",
        "\n",
        "I hope this helps! Let me know if you have any questions."
      ],
      "metadata": {
        "id": "ySRUo8n6Pn4C"
      },
      "execution_count": null,
      "outputs": []
    },
    {
      "cell_type": "code",
      "source": [
        "# Geliştirilmiş bir role prompt'u\n",
        "role = \"\"\"\n",
        "You are OrderBot, a friendly chatbot designed to take pizza orders.\n",
        "You ask for the following:\n",
        "1. Pizza size (small, medium, large).\n",
        "2. Toppings (e.g., extra cheese, mushrooms, sausage).\n",
        "3. Drinks and sides.\n",
        "Once the order is complete, summarize the items clearly,\n",
        "confirm with the user, and ask for payment method.\n",
        "\"\"\"\n",
        "\n",
        "prompts = []\n",
        "responses = []\n",
        "\n",
        "# OrderBot'u başlat\n",
        "prompts.append(role)\n",
        "response = llama_chat(prompts, responses)  # llama_chat, sohbeti başlatır\n",
        "responses.append(response)\n",
        "print(f\"\\nChatbot: {response}\\n\")\n",
        "\n",
        "# Kullanıcı girişi döngüsü\n",
        "while True:\n",
        "    user_input = input(\"You: \")\n",
        "    if user_input.lower() in ['done', 'exit', 'quit', 'bye']:\n",
        "        print(\"Chatbot: Goodbye!\")\n",
        "        break\n",
        "    prompts.append(user_input)\n",
        "    response = llama_chat(prompts, responses)\n",
        "    responses.append(response)\n",
        "    print(f\"\\nChatbot: {response}\\n\")\n"
      ],
      "metadata": {
        "id": "yOvs1uMzSGOi"
      },
      "execution_count": null,
      "outputs": []
    }
  ]
}